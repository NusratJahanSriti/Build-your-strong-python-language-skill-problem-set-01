{
  "nbformat": 4,
  "nbformat_minor": 0,
  "metadata": {
    "colab": {
      "provenance": []
    },
    "kernelspec": {
      "name": "python3",
      "display_name": "Python 3"
    },
    "language_info": {
      "name": "python"
    }
  },
  "cells": [
    {
      "cell_type": "markdown",
      "source": [
        "**24. Given a list of integers, find the median.**"
      ],
      "metadata": {
        "id": "6ACR1kSbzjyo"
      }
    },
    {
      "cell_type": "code",
      "source": [
        "def find_median(numbers):\n",
        "    sorted_numbers = sorted(numbers) #we first sort the numbers using the sorted() function to ensure they are in ascending order.\n",
        "    length = len(sorted_numbers)\n",
        "    if length % 2 == 0:\n",
        "        mid1 = sorted_numbers[length // 2 - 1]\n",
        "        mid2 = sorted_numbers[length // 2]\n",
        "        median = (mid1 + mid2) / 2\n",
        "    else:\n",
        "        median = sorted_numbers[length // 2]\n",
        "    return median\n",
        "\n",
        "#If the length is even (i.e., divisible by 2), we calculate the two middle elements (mid1 and mid2) and take their average as the median.\n",
        "#If the length is odd, we directly take the middle element as the median.\n",
        "\n",
        "# Example usage\n",
        "input_list = input(\"Enter a list of integers, separated by spaces: \")\n",
        "input_list = list(map(int, input_list.split()))\n",
        "\n",
        "median = find_median(input_list)\n",
        "\n",
        "print(\"Median:\", median)"
      ],
      "metadata": {
        "colab": {
          "base_uri": "https://localhost:8080/"
        },
        "id": "yEeaXQAAz8KG",
        "outputId": "142a0126-4e0b-429a-8b8f-4c827ef5b21a"
      },
      "execution_count": 1,
      "outputs": [
        {
          "output_type": "stream",
          "name": "stdout",
          "text": [
            "Enter a list of integers, separated by spaces: 9 3 5 6\n",
            "Median: 5.5\n"
          ]
        }
      ]
    }
  ]
}