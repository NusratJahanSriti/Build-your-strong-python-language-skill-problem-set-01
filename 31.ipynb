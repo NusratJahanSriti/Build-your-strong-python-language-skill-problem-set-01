{
  "nbformat": 4,
  "nbformat_minor": 0,
  "metadata": {
    "colab": {
      "provenance": []
    },
    "kernelspec": {
      "name": "python3",
      "display_name": "Python 3"
    },
    "language_info": {
      "name": "python"
    }
  },
  "cells": [
    {
      "cell_type": "markdown",
      "source": [
        "**31. Check if a given number is a palindrome.**"
      ],
      "metadata": {
        "id": "jLNXCKiRMTY4"
      }
    },
    {
      "cell_type": "code",
      "source": [
        "#To check if a given number is a palindrome, you can convert it to a string and compare the string with its reverse.\n",
        "#If they are the same, then the number is a palindrome.\n",
        "\n",
        "def is_palindrome(number):\n",
        "    number_str = str(number)\n",
        "    reversed_str = number_str[::-1] #We then use string slicing with a step of -1 ([::-1]) to obtain the reversed string.\n",
        "    if number_str == reversed_str:\n",
        "        return True\n",
        "    else:\n",
        "        return False\n",
        "\n",
        "# Example usage\n",
        "input_number = int(input(\"Enter a number: \"))\n",
        "\n",
        "if is_palindrome(input_number):\n",
        "    print(\"The number is a palindrome.\")\n",
        "else:\n",
        "    print(\"The number is not a palindrome.\")\n"
      ],
      "metadata": {
        "colab": {
          "base_uri": "https://localhost:8080/"
        },
        "id": "Fzzo4_DJMa4_",
        "outputId": "0f07a859-9e50-4ede-b764-57d86c510f5f"
      },
      "execution_count": 1,
      "outputs": [
        {
          "output_type": "stream",
          "name": "stdout",
          "text": [
            "Enter a number: 432\n",
            "The number is not a palindrome.\n"
          ]
        }
      ]
    }
  ]
}