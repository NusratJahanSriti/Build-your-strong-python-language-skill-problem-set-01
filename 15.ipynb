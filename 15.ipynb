{
  "nbformat": 4,
  "nbformat_minor": 0,
  "metadata": {
    "colab": {
      "provenance": []
    },
    "kernelspec": {
      "name": "python3",
      "display_name": "Python 3"
    },
    "language_info": {
      "name": "python"
    }
  },
  "cells": [
    {
      "cell_type": "markdown",
      "source": [
        "**15. Find the number of occurrences of a specific element in a list.**"
      ],
      "metadata": {
        "id": "j9mmpCo0E9sD"
      }
    },
    {
      "cell_type": "code",
      "source": [
        "def count_occurrences(numbers, target): #numbers (the list of integers) and target (the element to count occurrences of)\n",
        "    return numbers.count(target)\n",
        "\n",
        "# Example usage\n",
        "input_list = input(\"Enter a list of integers, separated by spaces: \")\n",
        "input_list = list(map(int, input_list.split()))\n",
        "\n",
        "target_element = int(input(\"Enter the target element: \"))\n",
        "\n",
        "occurrences = count_occurrences(input_list, target_element)\n",
        "\n",
        "print(\"Number of occurrences:\", occurrences)\n"
      ],
      "metadata": {
        "colab": {
          "base_uri": "https://localhost:8080/"
        },
        "id": "6vnnhSu4FHF7",
        "outputId": "d7c97383-286f-47e8-d1a7-82b206dbed44"
      },
      "execution_count": 1,
      "outputs": [
        {
          "output_type": "stream",
          "name": "stdout",
          "text": [
            "Enter a list of integers, separated by spaces: 23 5 6 7 8 12 67\n",
            "Enter the target element: 7\n",
            "Number of occurrences: 1\n"
          ]
        }
      ]
    }
  ]
}