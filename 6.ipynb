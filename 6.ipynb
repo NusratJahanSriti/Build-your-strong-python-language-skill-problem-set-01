{
  "nbformat": 4,
  "nbformat_minor": 0,
  "metadata": {
    "colab": {
      "provenance": []
    },
    "kernelspec": {
      "name": "python3",
      "display_name": "Python 3"
    },
    "language_info": {
      "name": "python"
    }
  },
  "cells": [
    {
      "cell_type": "markdown",
      "source": [
        "**6. Check if a given string is a palindrome.**"
      ],
      "metadata": {
        "id": "3JrZBW_ThgYw"
      }
    },
    {
      "cell_type": "code",
      "source": [
        "def is_palindrome(string):\n",
        "    string = string.lower() #We first convert the string to lowercase using the lower() method to make the palindrome check case-insensitive.\n",
        "    reversed_string = string[::-1] #we create a reversed_string by slicing the string with a step of -1 ([::-1]), which reverses the order of the characters.\n",
        "    return string == reversed_string\n",
        "\n",
        "# Example usage\n",
        "input_string = input(\"Enter a string: \")\n",
        "\n",
        "if is_palindrome(input_string):\n",
        "    print(\"The string is a palindrome.\")\n",
        "else:\n",
        "    print(\"The string is not a palindrome.\")\n"
      ],
      "metadata": {
        "colab": {
          "base_uri": "https://localhost:8080/"
        },
        "id": "80YZo5zKhosi",
        "outputId": "8e94218d-411b-4c1f-f73e-ecc8d8136125"
      },
      "execution_count": null,
      "outputs": [
        {
          "output_type": "stream",
          "name": "stdout",
          "text": [
            "Enter a string: Sriti\n",
            "The string is not a palindrome.\n"
          ]
        }
      ]
    }
  ]
}