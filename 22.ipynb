{
  "nbformat": 4,
  "nbformat_minor": 0,
  "metadata": {
    "colab": {
      "provenance": []
    },
    "kernelspec": {
      "name": "python3",
      "display_name": "Python 3"
    },
    "language_info": {
      "name": "python"
    }
  },
  "cells": [
    {
      "cell_type": "markdown",
      "source": [
        "**22. Find the length of the longest word in a sentence.**"
      ],
      "metadata": {
        "id": "u940k32twXLA"
      }
    },
    {
      "cell_type": "code",
      "source": [
        "def find_longest_word(sentence):\n",
        "    words = sentence.split()\n",
        "    longest_word_length = 0\n",
        "    for word in words:\n",
        "        word_length = len(word)\n",
        "        if word_length > longest_word_length:\n",
        "            longest_word_length = word_length\n",
        "    return longest_word_length\n",
        "\n",
        "# Example usage\n",
        "input_sentence = input(\"Enter a sentence: \")\n",
        "\n",
        "longest_word_length = find_longest_word(input_sentence)\n",
        "\n",
        "print(\"Length of the longest word:\", longest_word_length)"
      ],
      "metadata": {
        "colab": {
          "base_uri": "https://localhost:8080/"
        },
        "id": "g7oMru0ux6EO",
        "outputId": "ce80b9ef-7649-4ddd-8767-41ac97dc5436"
      },
      "execution_count": 1,
      "outputs": [
        {
          "output_type": "stream",
          "name": "stdout",
          "text": [
            "Enter a sentence: My name is Nusrat\n",
            "Length of the longest word: 6\n"
          ]
        }
      ]
    }
  ]
}