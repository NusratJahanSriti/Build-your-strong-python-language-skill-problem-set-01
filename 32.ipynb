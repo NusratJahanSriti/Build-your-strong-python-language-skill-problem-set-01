{
  "nbformat": 4,
  "nbformat_minor": 0,
  "metadata": {
    "colab": {
      "provenance": []
    },
    "kernelspec": {
      "name": "python3",
      "display_name": "Python 3"
    },
    "language_info": {
      "name": "python"
    }
  },
  "cells": [
    {
      "cell_type": "markdown",
      "source": [
        "**32. Given a list of integers, find the second smallest element.**"
      ],
      "metadata": {
        "id": "rctDrxyWOGPm"
      }
    },
    {
      "cell_type": "code",
      "source": [
        "def find_second_smallest(numbers):\n",
        "    # Remove duplicates and sort the list\n",
        "    sorted_numbers = sorted(set(numbers))\n",
        "\n",
        "    if len(sorted_numbers) < 2:\n",
        "        return None  # Return None if the list has less than 2 unique elements\n",
        "\n",
        "    return sorted_numbers[1]  # Return the second element (index 1) from the sorted list\n",
        "\n",
        "# Example usage\n",
        "input_list = list(map(int, input(\"Enter a list of integers, separated by spaces: \").split())) #The input string is split and converted into a list of integers using map() and int().\n",
        "\n",
        "second_smallest = find_second_smallest(input_list)\n",
        "\n",
        "if second_smallest is not None:\n",
        "    print(\"Second smallest element:\", second_smallest)\n",
        "else:\n",
        "    print(\"The list does not have a second smallest element.\")"
      ],
      "metadata": {
        "id": "w90KGPdsOP5u",
        "colab": {
          "base_uri": "https://localhost:8080/"
        },
        "outputId": "9d92762b-d54e-46a3-b11c-3700ff2b45d4"
      },
      "execution_count": 1,
      "outputs": [
        {
          "output_type": "stream",
          "name": "stdout",
          "text": [
            "Enter a list of integers, separated by spaces: 45 7 9 4\n",
            "Second smallest element: 7\n"
          ]
        }
      ]
    }
  ]
}