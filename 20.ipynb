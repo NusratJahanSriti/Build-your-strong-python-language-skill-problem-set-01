{
  "nbformat": 4,
  "nbformat_minor": 0,
  "metadata": {
    "colab": {
      "provenance": []
    },
    "kernelspec": {
      "name": "python3",
      "display_name": "Python 3"
    },
    "language_info": {
      "name": "python"
    }
  },
  "cells": [
    {
      "cell_type": "markdown",
      "source": [
        "**20. Given a list of integers, find the product of all the elements.**"
      ],
      "metadata": {
        "id": "3PVh2pKfKe4U"
      }
    },
    {
      "cell_type": "code",
      "source": [
        "def calculate_product(numbers):\n",
        "    product = 1\n",
        "    for num in numbers:\n",
        "        product *= num\n",
        "    return product\n",
        "\n",
        "# Example usage\n",
        "input_list = input(\"Enter a list of integers, separated by spaces: \")\n",
        "input_list = list(map(int, input_list.split()))\n",
        "\n",
        "product_of_elements = calculate_product(input_list)\n",
        "\n",
        "print(\"Product of elements:\", product_of_elements)"
      ],
      "metadata": {
        "id": "xO0fJoOZKvij",
        "colab": {
          "base_uri": "https://localhost:8080/"
        },
        "outputId": "2581d8b6-d4bf-4aed-8e94-c2d7a455279c"
      },
      "execution_count": 1,
      "outputs": [
        {
          "output_type": "stream",
          "name": "stdout",
          "text": [
            "Enter a list of integers, separated by spaces: 5 6 7 9\n",
            "Product of elements: 1890\n"
          ]
        }
      ]
    }
  ]
}