{
  "nbformat": 4,
  "nbformat_minor": 0,
  "metadata": {
    "colab": {
      "provenance": []
    },
    "kernelspec": {
      "name": "python3",
      "display_name": "Python 3"
    },
    "language_info": {
      "name": "python"
    }
  },
  "cells": [
    {
      "cell_type": "markdown",
      "source": [
        "**16. Remove the duplicates from a string.**"
      ],
      "metadata": {
        "id": "KAexOg2RFtpr"
      }
    },
    {
      "cell_type": "code",
      "source": [
        "def remove_duplicates(string):\n",
        "    seen = set()\n",
        "    unique_string = \"\"\n",
        "    for char in string:\n",
        "        if char not in seen:\n",
        "            seen.add(char)\n",
        "            unique_string += char\n",
        "    return unique_string\n",
        "\n",
        "#we iterate through each character of the input string.\n",
        "#We maintain a set called seen to keep track of the characters we have encountered so far.\n",
        "#If a character is not present in the set, it means it is unique, so we add it to the set and append it to the unique_string.\n",
        "#By doing this, we preserve the order of the characters while removing duplicates.\n",
        "\n",
        "# Example usage\n",
        "input_string = input(\"Enter a string: \")\n",
        "\n",
        "unique_string = remove_duplicates(input_string)\n",
        "\n",
        "print(\"String with duplicates removed:\", unique_string)"
      ],
      "metadata": {
        "colab": {
          "base_uri": "https://localhost:8080/"
        },
        "id": "lTg_d9R-F1K0",
        "outputId": "403ebf05-581d-4b3c-8c3c-b0829435b529"
      },
      "execution_count": 1,
      "outputs": [
        {
          "output_type": "stream",
          "name": "stdout",
          "text": [
            "Enter a string: Nusrat Jahan Sriti\n",
            "String with duplicates removed: Nusrat JhnSi\n"
          ]
        }
      ]
    }
  ]
}