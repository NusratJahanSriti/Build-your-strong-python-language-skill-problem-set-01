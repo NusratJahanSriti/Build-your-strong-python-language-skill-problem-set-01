{
  "nbformat": 4,
  "nbformat_minor": 0,
  "metadata": {
    "colab": {
      "provenance": []
    },
    "kernelspec": {
      "name": "python3",
      "display_name": "Python 3"
    },
    "language_info": {
      "name": "python"
    }
  },
  "cells": [
    {
      "cell_type": "markdown",
      "source": [
        "**14. Given a list of strings, concatenate them into a single string.**"
      ],
      "metadata": {
        "id": "mJa_hqsaDvtc"
      }
    },
    {
      "cell_type": "code",
      "source": [
        "def concatenate_strings(strings):\n",
        "    return ''.join(strings) #We use the join() method to concatenate all the strings in the list into a single string. #an empty string ''\n",
        "\n",
        "# Example usage\n",
        "input_list = input(\"Enter a list of strings, separated by spaces: \")\n",
        "input_list = input_list.split()\n",
        "\n",
        "concatenated_string = concatenate_strings(input_list)\n",
        "\n",
        "print(\"Concatenated string:\", concatenated_string)\n"
      ],
      "metadata": {
        "colab": {
          "base_uri": "https://localhost:8080/"
        },
        "id": "Zli-VOG1D6Nc",
        "outputId": "ca3017cb-246e-4cc4-f79c-7d69a1c77a3f"
      },
      "execution_count": 1,
      "outputs": [
        {
          "output_type": "stream",
          "name": "stdout",
          "text": [
            "Enter a list of strings, separated by spaces: N U S R A T\n",
            "Concatenated string: NUSRAT\n"
          ]
        }
      ]
    }
  ]
}