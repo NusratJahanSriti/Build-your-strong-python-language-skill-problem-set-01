{
  "nbformat": 4,
  "nbformat_minor": 0,
  "metadata": {
    "colab": {
      "provenance": []
    },
    "kernelspec": {
      "name": "python3",
      "display_name": "Python 3"
    },
    "language_info": {
      "name": "python"
    }
  },
  "cells": [
    {
      "cell_type": "markdown",
      "source": [
        "**23. Calculate the average of all the even numbers in a list.**"
      ],
      "metadata": {
        "id": "FgOM1d0Cye7w"
      }
    },
    {
      "cell_type": "code",
      "source": [
        "def calculate_average_even(numbers):\n",
        "    even_numbers = [num for num in numbers if num % 2 == 0]\n",
        "    if len(even_numbers) == 0:\n",
        "        return 0\n",
        "    else:\n",
        "        return sum(even_numbers) / len(even_numbers)\n",
        "\n",
        "# Example usage\n",
        "input_list = input(\"Enter a list of numbers, separated by spaces: \")\n",
        "input_list = list(map(int, input_list.split()))\n",
        "\n",
        "average_of_even_numbers = calculate_average_even(input_list)\n",
        "\n",
        "print(\"Average of even numbers:\", average_of_even_numbers)\n"
      ],
      "metadata": {
        "colab": {
          "base_uri": "https://localhost:8080/"
        },
        "id": "0G9M-Syryq2Q",
        "outputId": "f86aecb2-ff6f-44a4-e434-b33c7257f332"
      },
      "execution_count": 1,
      "outputs": [
        {
          "output_type": "stream",
          "name": "stdout",
          "text": [
            "Enter a list of numbers, separated by spaces: 5 2 4 13 28\n",
            "Average of even numbers: 11.333333333333334\n"
          ]
        }
      ]
    }
  ]
}