{
  "nbformat": 4,
  "nbformat_minor": 0,
  "metadata": {
    "colab": {
      "provenance": []
    },
    "kernelspec": {
      "name": "python3",
      "display_name": "Python 3"
    },
    "language_info": {
      "name": "python"
    }
  },
  "cells": [
    {
      "cell_type": "markdown",
      "source": [
        "**47. Given a list of tuples, convert it into a dictionary.**"
      ],
      "metadata": {
        "id": "W_AV00PuUasH"
      }
    },
    {
      "cell_type": "code",
      "source": [
        "my_list = [('a', 1), ('b', 2), ('c', 3)]\n",
        "\n",
        "my_dict = dict(my_list)\n",
        "\n",
        "print(my_dict) #where the first element of each tuple becomes the key and the second element becomes the corresponding valu"
      ],
      "metadata": {
        "colab": {
          "base_uri": "https://localhost:8080/"
        },
        "id": "Aapd0hgVU183",
        "outputId": "19cb392b-ba85-4361-b080-8c686bde095c"
      },
      "execution_count": 1,
      "outputs": [
        {
          "output_type": "stream",
          "name": "stdout",
          "text": [
            "{'a': 1, 'b': 2, 'c': 3}\n"
          ]
        }
      ]
    }
  ]
}