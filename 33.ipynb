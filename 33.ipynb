{
  "nbformat": 4,
  "nbformat_minor": 0,
  "metadata": {
    "colab": {
      "provenance": []
    },
    "kernelspec": {
      "name": "python3",
      "display_name": "Python 3"
    },
    "language_info": {
      "name": "python"
    }
  },
  "cells": [
    {
      "cell_type": "markdown",
      "source": [
        "**33. Remove the vowels from a string.**"
      ],
      "metadata": {
        "id": "NAMSbTUZV1nP"
      }
    },
    {
      "cell_type": "code",
      "source": [
        "def remove_vowels(string):\n",
        "    vowels = 'aeiouAEIOU'\n",
        "    return ''.join([char for char in string if char.lower() not in vowels]) #when you enter a string, it will remove both lowercase and uppercase vowels from the string\n",
        "\n",
        "# Example usage\n",
        "input_string = input(\"Enter a string: \")\n",
        "\n",
        "string_without_vowels = remove_vowels(input_string)\n",
        "\n",
        "print(\"String without vowels:\", string_without_vowels)"
      ],
      "metadata": {
        "colab": {
          "base_uri": "https://localhost:8080/"
        },
        "id": "rFJoyDfvV5x6",
        "outputId": "f0009725-5a6e-4a99-c4da-551608fed66e"
      },
      "execution_count": 1,
      "outputs": [
        {
          "output_type": "stream",
          "name": "stdout",
          "text": [
            "Enter a string: My name is Nusrat\n",
            "String without vowels: My nm s Nsrt\n"
          ]
        }
      ]
    }
  ]
}