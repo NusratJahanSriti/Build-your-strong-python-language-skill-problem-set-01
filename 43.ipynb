{
  "nbformat": 4,
  "nbformat_minor": 0,
  "metadata": {
    "colab": {
      "provenance": []
    },
    "kernelspec": {
      "name": "python3",
      "display_name": "Python 3"
    },
    "language_info": {
      "name": "python"
    }
  },
  "cells": [
    {
      "cell_type": "markdown",
      "source": [
        "**43. Find the number of words starting with a specific letter in a sentence.**"
      ],
      "metadata": {
        "id": "EtuYBeNyYlzv"
      }
    },
    {
      "cell_type": "code",
      "source": [
        "def count_words_starting_with_letter(sentence, letter):\n",
        "    words = sentence.split()\n",
        "    count = 0\n",
        "    for word in words:\n",
        "        if word.startswith(letter):\n",
        "            count += 1\n",
        "    return count\n",
        "\n",
        "# Example usage\n",
        "sentence = input(\"Enter a sentence: \")\n",
        "letter = input(\"Enter a letter: \")\n",
        "\n",
        "word_count = count_words_starting_with_letter(sentence, letter)\n",
        "print(f\"Number of words starting with '{letter}': {word_count}\")\n"
      ],
      "metadata": {
        "colab": {
          "base_uri": "https://localhost:8080/"
        },
        "id": "P9RS22ANYujW",
        "outputId": "87f7b484-c7cb-4c28-9fcb-f4fc3fe1581d"
      },
      "execution_count": 2,
      "outputs": [
        {
          "output_type": "stream",
          "name": "stdout",
          "text": [
            "Enter a sentence: She is a brilliant Student.\n",
            "Enter a letter: S\n",
            "Number of words starting with 'S': 2\n"
          ]
        }
      ]
    }
  ]
}