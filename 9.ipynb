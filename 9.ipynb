{
  "nbformat": 4,
  "nbformat_minor": 0,
  "metadata": {
    "colab": {
      "provenance": []
    },
    "kernelspec": {
      "name": "python3",
      "display_name": "Python 3"
    },
    "language_info": {
      "name": "python"
    }
  },
  "cells": [
    {
      "cell_type": "markdown",
      "source": [
        "**9. Write a program to remove duplicates from a list.**"
      ],
      "metadata": {
        "id": "35UbI3pjk9ts"
      }
    },
    {
      "cell_type": "code",
      "source": [
        "def remove_duplicates(input_list):\n",
        "    return list(set(input_list))\n",
        "\n",
        "#We convert the list to a set using the set() function, which automatically removes duplicates since sets only contain unique elements.\n",
        "#Then, we convert the set back to a list using the list() function, preserving the order of the elements.\n",
        "#The resulting list contains only the unique elements.\n",
        "\n",
        "# Example usage\n",
        "input_list = input(\"Enter a list of elements, separated by spaces: \")\n",
        "input_list = input_list.split()\n",
        "\n",
        "unique_list = remove_duplicates(input_list)\n",
        "\n",
        "print(\"List with duplicates removed:\", unique_list)"
      ],
      "metadata": {
        "colab": {
          "base_uri": "https://localhost:8080/"
        },
        "id": "P1n2VdmslUdL",
        "outputId": "67e723df-2bfa-467a-c632-fee00f674125"
      },
      "execution_count": null,
      "outputs": [
        {
          "output_type": "stream",
          "name": "stdout",
          "text": [
            "Enter a list of elements, separated by spaces: N U S R A T\n",
            "List with duplicates removed: ['N', 'S', 'R', 'T', 'A', 'U']\n"
          ]
        }
      ]
    }
  ]
}