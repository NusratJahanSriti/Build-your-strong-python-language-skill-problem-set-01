{
  "nbformat": 4,
  "nbformat_minor": 0,
  "metadata": {
    "colab": {
      "provenance": []
    },
    "kernelspec": {
      "name": "python3",
      "display_name": "Python 3"
    },
    "language_info": {
      "name": "python"
    }
  },
  "cells": [
    {
      "cell_type": "markdown",
      "source": [
        "**48. Check if a given string is a palindrome ignoring spaces.**"
      ],
      "metadata": {
        "id": "ADyhTP8MVdOX"
      }
    },
    {
      "cell_type": "code",
      "source": [
        "def is_palindrome_ignore_spaces(string):\n",
        "    # Remove spaces from the string\n",
        "    string = string.replace(\" \", \"\")\n",
        "\n",
        "    # Reverse the string\n",
        "    reversed_string = string[::-1]\n",
        "\n",
        "    # Compare the reversed string with the original string\n",
        "    return string == reversed_string\n",
        "\n",
        "# Example usage\n",
        "input_string = \"race car\"\n",
        "result = is_palindrome_ignore_spaces(input_string)\n",
        "print(result)"
      ],
      "metadata": {
        "colab": {
          "base_uri": "https://localhost:8080/"
        },
        "id": "h4_4u6GlWHUP",
        "outputId": "b63997f5-6b0a-4f5c-9d69-e0e3cc9dce11"
      },
      "execution_count": 1,
      "outputs": [
        {
          "output_type": "stream",
          "name": "stdout",
          "text": [
            "True\n"
          ]
        }
      ]
    }
  ]
}