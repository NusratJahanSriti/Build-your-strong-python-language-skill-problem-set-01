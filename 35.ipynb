{
  "nbformat": 4,
  "nbformat_minor": 0,
  "metadata": {
    "colab": {
      "provenance": []
    },
    "kernelspec": {
      "name": "python3",
      "display_name": "Python 3"
    },
    "language_info": {
      "name": "python"
    }
  },
  "cells": [
    {
      "cell_type": "markdown",
      "source": [
        "\n",
        "**35. Sort a list of integers in ascending order.**"
      ],
      "metadata": {
        "id": "meKpVFhaYIAI"
      }
    },
    {
      "cell_type": "code",
      "source": [
        "# User input\n",
        "numbers = input(\"Enter a list of integers, separated by spaces: \").split() #he input is split using the split() method to obtain individual numbers as strings. Then, a list comprehension is used to convert each string number to an integer.\n",
        "numbers = [int(num) for num in numbers]\n",
        "\n",
        "# Sort the list in ascending order\n",
        "numbers.sort()\n",
        "\n",
        "# Print the sorted list\n",
        "print(\"Sorted list:\", numbers)"
      ],
      "metadata": {
        "colab": {
          "base_uri": "https://localhost:8080/"
        },
        "id": "TuRGvFk5YXeJ",
        "outputId": "f3fa0785-9f32-4c04-ca22-ca05090fc5bd"
      },
      "execution_count": 1,
      "outputs": [
        {
          "output_type": "stream",
          "name": "stdout",
          "text": [
            "Enter a list of integers, separated by spaces: 8 9 6 5 4 3\n",
            "Sorted list: [3, 4, 5, 6, 8, 9]\n"
          ]
        }
      ]
    }
  ]
}