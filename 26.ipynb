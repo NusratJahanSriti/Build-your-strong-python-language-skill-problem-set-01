{
  "nbformat": 4,
  "nbformat_minor": 0,
  "metadata": {
    "colab": {
      "provenance": []
    },
    "kernelspec": {
      "name": "python3",
      "display_name": "Python 3"
    },
    "language_info": {
      "name": "python"
    }
  },
  "cells": [
    {
      "cell_type": "markdown",
      "source": [
        "**26. Write a program to reverse a string.**"
      ],
      "metadata": {
        "id": "_fcz4hSA29QF"
      }
    },
    {
      "cell_type": "code",
      "source": [
        "def reverse_string(input_string):\n",
        "    return input_string[::-1] #we use slicing with a step of -1 ([::-1]) to reverse the string. The slicing notation [::-1] creates a new string with all the characters of the input string, but in reverse order.\n",
        "\n",
        "# Example usage\n",
        "input_string = input(\"Enter a string: \")\n",
        "\n",
        "reversed_string = reverse_string(input_string)\n",
        "\n",
        "print(\"Reversed string:\", reversed_string)\n"
      ],
      "metadata": {
        "id": "gclbvoET3F6k",
        "colab": {
          "base_uri": "https://localhost:8080/"
        },
        "outputId": "2a388422-c99e-499c-dfed-87011b23a415"
      },
      "execution_count": 1,
      "outputs": [
        {
          "output_type": "stream",
          "name": "stdout",
          "text": [
            "Enter a string: Nusrat Jahan Sriti\n",
            "Reversed string: itirS nahaJ tarsuN\n"
          ]
        }
      ]
    }
  ]
}