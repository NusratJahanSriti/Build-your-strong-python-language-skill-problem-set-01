{
  "nbformat": 4,
  "nbformat_minor": 0,
  "metadata": {
    "colab": {
      "provenance": []
    },
    "kernelspec": {
      "name": "python3",
      "display_name": "Python 3"
    },
    "language_info": {
      "name": "python"
    }
  },
  "cells": [
    {
      "cell_type": "markdown",
      "source": [
        "**29. Remove all the special characters from a string.**"
      ],
      "metadata": {
        "id": "yjEeU93LHQlD"
      }
    },
    {
      "cell_type": "code",
      "source": [
        "import re #we import the re module, which provides support for regular expressions in Python.\n",
        "\n",
        "def remove_special_characters(input_string):\n",
        "    pattern = r'[^a-zA-Z0-9\\s]'  # Regular expression pattern to match special characters #used to match any character that is not an uppercase letter, lowercase letter, digit, or whitespace.\n",
        "    cleaned_string = re.sub(pattern, '', input_string) #We use the re.sub() function to substitute all the occurrences of the special characters matched by the pattern with an empty string.In the context of removing special characters from a string, it replaces the matched characters with an empty string, effectively removing them.\n",
        "    return cleaned_string\n",
        "\n",
        "# Example usage\n",
        "input_string = input(\"Enter a string: \")\n",
        "\n",
        "cleaned_string = remove_special_characters(input_string)\n",
        "\n",
        "print(\"String with special characters removed:\", cleaned_string)"
      ],
      "metadata": {
        "colab": {
          "base_uri": "https://localhost:8080/"
        },
        "id": "GU6T48DiHqAa",
        "outputId": "1f068a1b-84e9-4bed-b6d5-4f658be58c35"
      },
      "execution_count": 1,
      "outputs": [
        {
          "output_type": "stream",
          "name": "stdout",
          "text": [
            "Enter a string: Hellow W@rld\n",
            "String with special characters removed: Hellow Wrld\n"
          ]
        }
      ]
    }
  ]
}