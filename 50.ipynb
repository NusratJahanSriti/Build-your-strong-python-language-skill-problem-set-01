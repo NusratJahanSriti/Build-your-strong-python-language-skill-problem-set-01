{
  "nbformat": 4,
  "nbformat_minor": 0,
  "metadata": {
    "colab": {
      "provenance": []
    },
    "kernelspec": {
      "name": "python3",
      "display_name": "Python 3"
    },
    "language_info": {
      "name": "python"
    }
  },
  "cells": [
    {
      "cell_type": "markdown",
      "source": [
        "**50. Write a program to remove duplicate characters from a string.**"
      ],
      "metadata": {
        "id": "a-deM3swako3"
      }
    },
    {
      "cell_type": "code",
      "source": [
        "def remove_duplicates(string):\n",
        "    # Create an empty set to store unique characters\n",
        "    unique_chars = set()\n",
        "\n",
        "    # Create an empty string to store the result\n",
        "    result = \"\"\n",
        "\n",
        "    # Iterate over each character in the string\n",
        "    for char in string:\n",
        "        # Check if the character is already encountered\n",
        "        if char not in unique_chars:\n",
        "            # Add the character to the set of unique characters\n",
        "            unique_chars.add(char)\n",
        "            # Append the character to the result string\n",
        "            result += char\n",
        "\n",
        "    return result\n",
        "\n",
        "# Example usage\n",
        "input_string = \"Hello World\"\n",
        "result_string = remove_duplicates(input_string)\n",
        "print(result_string)\n"
      ],
      "metadata": {
        "colab": {
          "base_uri": "https://localhost:8080/"
        },
        "id": "z8HlIGZvaqEG",
        "outputId": "6df4dfb9-12ef-412d-8917-2d82062b2365"
      },
      "execution_count": 1,
      "outputs": [
        {
          "output_type": "stream",
          "name": "stdout",
          "text": [
            "Helo Wrd\n"
          ]
        }
      ]
    }
  ]
}