{
  "nbformat": 4,
  "nbformat_minor": 0,
  "metadata": {
    "colab": {
      "provenance": []
    },
    "kernelspec": {
      "name": "python3",
      "display_name": "Python 3"
    },
    "language_info": {
      "name": "python"
    }
  },
  "cells": [
    {
      "cell_type": "markdown",
      "source": [
        "**1. Write a program to find the sum of all numbers from 1 to N**"
      ],
      "metadata": {
        "id": "lH9X8J6PcZqx"
      }
    },
    {
      "cell_type": "code",
      "source": [
        "def calculate_sum(n):\n",
        "    total_sum = 0\n",
        "    for i in range(1, n+1):\n",
        "        total_sum += i\n",
        "    return total_sum\n",
        "\n",
        "# Example usage\n",
        "N = 10\n",
        "result = calculate_sum(N)\n",
        "print(\"The sum of all numbers from 1 to\", N, \"is:\", result)\n"
      ],
      "metadata": {
        "colab": {
          "base_uri": "https://localhost:8080/"
        },
        "id": "4jpWaaOnchro",
        "outputId": "3803f18c-9043-4236-8f2a-2fe0763e932a"
      },
      "execution_count": null,
      "outputs": [
        {
          "output_type": "stream",
          "name": "stdout",
          "text": [
            "The sum of all numbers from 1 to 10 is: 55\n"
          ]
        }
      ]
    }
  ]
}