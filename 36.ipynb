{
  "nbformat": 4,
  "nbformat_minor": 0,
  "metadata": {
    "colab": {
      "provenance": []
    },
    "kernelspec": {
      "name": "python3",
      "display_name": "Python 3"
    },
    "language_info": {
      "name": "python"
    }
  },
  "cells": [
    {
      "cell_type": "markdown",
      "source": [
        "**36. Check if all elements in a list are unique.**"
      ],
      "metadata": {
        "id": "AwOX3EyKYs9w"
      }
    },
    {
      "cell_type": "code",
      "source": [
        "def are_all_elements_unique(lst):\n",
        "    return len(liist) == len(set(liist))\n",
        "\n",
        "# User input\n",
        "elements = input(\"Enter elements of the list, separated by spaces: \").split() #The input is split using the split() method to obtain individual elements as strings.\n",
        "\n",
        "# Convert elements to the desired data type (e.g., integers, floats)\n",
        "liist = [int(element) for element in elements] #Then, a list comprehension is used to convert each string element to the desired data type.\n",
        "\n",
        "# Check if all elements in the list are unique\n",
        "result = are_all_elements_unique(liist)\n",
        "\n",
        "# Print the result\n",
        "if result:\n",
        "    print(\"All elements in the list are unique.\")\n",
        "else:\n",
        "    print(\"Not all elements in the list are unique.\")"
      ],
      "metadata": {
        "colab": {
          "base_uri": "https://localhost:8080/"
        },
        "id": "UoNrUtlLY2kX",
        "outputId": "9c00561e-ee39-4abe-85c5-d4552d5dada1"
      },
      "execution_count": 1,
      "outputs": [
        {
          "output_type": "stream",
          "name": "stdout",
          "text": [
            "Enter elements of the list, separated by spaces: 4 3 6 7 2\n",
            "All elements in the list are unique.\n"
          ]
        }
      ]
    }
  ]
}