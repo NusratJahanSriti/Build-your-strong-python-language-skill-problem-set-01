{
  "nbformat": 4,
  "nbformat_minor": 0,
  "metadata": {
    "colab": {
      "provenance": []
    },
    "kernelspec": {
      "name": "python3",
      "display_name": "Python 3"
    },
    "language_info": {
      "name": "python"
    }
  },
  "cells": [
    {
      "cell_type": "markdown",
      "source": [
        "**2. Given a list of integers, find the maximum and minimum elements.**"
      ],
      "metadata": {
        "id": "v-PDh6MSdluv"
      }
    },
    {
      "cell_type": "code",
      "source": [
        "def find_max_min(numbers):\n",
        "    if not numbers:\n",
        "        return None, None\n",
        "\n",
        "    min_element = max_element = numbers[0]\n",
        "    for num in numbers:\n",
        "        if num < min_element:\n",
        "            min_element = num\n",
        "        if num > max_element:\n",
        "            max_element = num\n",
        "\n",
        "    return max_element, min_element\n",
        "\n",
        "# Example usage\n",
        "input_list = [5, 2, 9, 1, 7, 3]\n",
        "maximum, minimum = find_max_min(input_list)\n",
        "print(\"Maximum element:\", maximum)\n",
        "print(\"Minimum element:\", minimum)"
      ],
      "metadata": {
        "colab": {
          "base_uri": "https://localhost:8080/"
        },
        "id": "k9hVPpL_dsce",
        "outputId": "3c19ca1f-f1ff-456a-eb4d-e30b14686417"
      },
      "execution_count": null,
      "outputs": [
        {
          "output_type": "stream",
          "name": "stdout",
          "text": [
            "Maximum element: 9\n",
            "Minimum element: 1\n"
          ]
        }
      ]
    }
  ]
}