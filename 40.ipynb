{
  "nbformat": 4,
  "nbformat_minor": 0,
  "metadata": {
    "colab": {
      "provenance": []
    },
    "kernelspec": {
      "name": "python3",
      "display_name": "Python 3"
    },
    "language_info": {
      "name": "python"
    }
  },
  "cells": [
    {
      "cell_type": "markdown",
      "source": [
        "**40. Given two lists, find their common elements.**"
      ],
      "metadata": {
        "id": "nMyH4FGMWPPv"
      }
    },
    {
      "cell_type": "code",
      "source": [
        "list1 = [1, 2, 3, 4, 5]\n",
        "list2 = [4, 5, 6, 7, 8]\n",
        "\n",
        "common_elements = set(list1).intersection(list2)\n",
        "#Sets are unordered collections that only contain unique elements. Then, the intersection() method is used to find the common elements between the two sets.\n",
        "\n",
        "print(\"Common elements:\", common_elements)\n"
      ],
      "metadata": {
        "colab": {
          "base_uri": "https://localhost:8080/"
        },
        "id": "UzUbwtUQWcpf",
        "outputId": "5b4654be-ddac-4dde-eaca-e8d8fb92bfd7"
      },
      "execution_count": 1,
      "outputs": [
        {
          "output_type": "stream",
          "name": "stdout",
          "text": [
            "Common elements: {4, 5}\n"
          ]
        }
      ]
    }
  ]
}