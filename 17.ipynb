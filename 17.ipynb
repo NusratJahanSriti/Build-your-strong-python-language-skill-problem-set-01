{
  "nbformat": 4,
  "nbformat_minor": 0,
  "metadata": {
    "colab": {
      "provenance": []
    },
    "kernelspec": {
      "name": "python3",
      "display_name": "Python 3"
    },
    "language_info": {
      "name": "python"
    }
  },
  "cells": [
    {
      "cell_type": "markdown",
      "source": [
        "**17. Count the number of words in a sentence.**"
      ],
      "metadata": {
        "id": "TdVxZS_mGT5T"
      }
    },
    {
      "cell_type": "code",
      "source": [
        "def count_words(sentence):\n",
        "    words = sentence.split() #split() method on the sentence, which splits the sentence into a list of words based on whitespace as the delimiter.\n",
        "    return len(words)\n",
        "\n",
        "# Example usage\n",
        "input_sentence = input(\"Enter a sentence: \")\n",
        "\n",
        "word_count = count_words(input_sentence)\n",
        "\n",
        "print(\"Number of words:\", word_count)"
      ],
      "metadata": {
        "colab": {
          "base_uri": "https://localhost:8080/"
        },
        "id": "XdApgzj9Gcil",
        "outputId": "0b08210a-3a11-4f2c-8d23-af40c4e4c19d"
      },
      "execution_count": 1,
      "outputs": [
        {
          "output_type": "stream",
          "name": "stdout",
          "text": [
            "Enter a sentence: Nusrat Jahan Sriti\n",
            "Number of words: 3\n"
          ]
        }
      ]
    }
  ]
}