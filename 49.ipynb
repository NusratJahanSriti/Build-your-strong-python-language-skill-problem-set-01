{
  "nbformat": 4,
  "nbformat_minor": 0,
  "metadata": {
    "colab": {
      "provenance": []
    },
    "kernelspec": {
      "name": "python3",
      "display_name": "Python 3"
    },
    "language_info": {
      "name": "python"
    }
  },
  "cells": [
    {
      "cell_type": "markdown",
      "source": [
        "**49. Given a string, count the number of uppercase and lowercase letters.**"
      ],
      "metadata": {
        "id": "M6j4ylPHYmd3"
      }
    },
    {
      "cell_type": "code",
      "source": [
        "def count_upper_lower(string):\n",
        "    upper_count = 0\n",
        "    lower_count = 0\n",
        "\n",
        "    for char in string:\n",
        "        if char.isupper():\n",
        "            upper_count += 1\n",
        "        elif char.islower():\n",
        "            lower_count += 1\n",
        "\n",
        "    return upper_count, lower_count\n",
        "\n",
        "# Example usage\n",
        "input_string = \"Hello World\"\n",
        "upper, lower = count_upper_lower(input_string)\n",
        "print(\"Uppercase count:\", upper)\n",
        "print(\"Lowercase count:\", lower)\n"
      ],
      "metadata": {
        "colab": {
          "base_uri": "https://localhost:8080/"
        },
        "id": "rLtEbWU4Yy8P",
        "outputId": "aaf5eec0-5f73-4018-c856-0ac37e956d22"
      },
      "execution_count": 1,
      "outputs": [
        {
          "output_type": "stream",
          "name": "stdout",
          "text": [
            "Uppercase count: 2\n",
            "Lowercase count: 8\n"
          ]
        }
      ]
    }
  ]
}