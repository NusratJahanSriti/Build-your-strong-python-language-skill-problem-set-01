{
  "nbformat": 4,
  "nbformat_minor": 0,
  "metadata": {
    "colab": {
      "provenance": []
    },
    "kernelspec": {
      "name": "python3",
      "display_name": "Python 3"
    },
    "language_info": {
      "name": "python"
    }
  },
  "cells": [
    {
      "cell_type": "markdown",
      "source": [
        "**19. Calculate the sum of digits in a number.**"
      ],
      "metadata": {
        "id": "fkuJ_wHsJLAH"
      }
    },
    {
      "cell_type": "code",
      "source": [
        "def calculate_digit_sum(number):\n",
        "    digit_sum = 0\n",
        "    while number != 0:\n",
        "        digit = number % 10\n",
        "        digit_sum += digit\n",
        "        number //= 10\n",
        "    return digit_sum\n",
        "\n",
        "#We use a while loop to extract the digits of the number one by one.\n",
        "#In each iteration, we calculate the last digit by taking the remainder of the number divided by 10 (number % 10).\n",
        "#We add this digit to the digit_sum.\n",
        "#Then, we update the number by performing integer division by 10 (number //= 10), which removes the last digit.\n",
        "#We repeat this process until the number becomes 0.\n",
        "#Finally, we return the digit_sum.\n",
        "\n",
        "# Example usage\n",
        "input_number = int(input(\"Enter a number: \"))\n",
        "\n",
        "sum_of_digits = calculate_digit_sum(input_number)\n",
        "\n",
        "print(\"Sum of digits:\", sum_of_digits)"
      ],
      "metadata": {
        "colab": {
          "base_uri": "https://localhost:8080/"
        },
        "id": "X_7p96u9JVc6",
        "outputId": "2615279b-1059-4dfa-d722-5ca85c77c2f4"
      },
      "execution_count": 1,
      "outputs": [
        {
          "output_type": "stream",
          "name": "stdout",
          "text": [
            "Enter a number: 456\n",
            "Sum of digits: 15\n"
          ]
        }
      ]
    }
  ]
}