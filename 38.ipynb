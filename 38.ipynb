{
  "nbformat": 4,
  "nbformat_minor": 0,
  "metadata": {
    "colab": {
      "provenance": []
    },
    "kernelspec": {
      "name": "python3",
      "display_name": "Python 3"
    },
    "language_info": {
      "name": "python"
    }
  },
  "cells": [
    {
      "cell_type": "markdown",
      "source": [
        "**38. Remove the duplicates from a list of tuples.**"
      ],
      "metadata": {
        "id": "HU3TllItZtFh"
      }
    },
    {
      "cell_type": "code",
      "source": [
        "# List of tuples with duplicates\n",
        "data = [(\"Sriti\", 33), (\"Jahan\", 27), (\"Nusrat\", 32), (\"Elma\", 28), (\"Isma\", 17), (\"Emu\", 27)]\n",
        "\n",
        "# Remove duplicates while preserving order\n",
        "unique_data = []\n",
        "seen = set()\n",
        "\n",
        "for item in data: #For each tuple item, we check if it has been encountered before using the in operator with the seen set. #If it hasn't been seen before, we append it to the unique_data list and add it to the seen set.\n",
        "    if item not in seen:\n",
        "        unique_data.append(item)\n",
        "        seen.add(item)\n",
        "\n",
        "# Print the list without duplicates\n",
        "print(\"List without duplicates:\", unique_data)"
      ],
      "metadata": {
        "id": "PPPKCO-GZwtn",
        "colab": {
          "base_uri": "https://localhost:8080/"
        },
        "outputId": "8ed3d71b-24f6-4379-e5d0-4c5a1617c5ad"
      },
      "execution_count": 1,
      "outputs": [
        {
          "output_type": "stream",
          "name": "stdout",
          "text": [
            "List without duplicates: [('Sriti', 33), ('Jahan', 27), ('Nusrat', 32), ('Elma', 28), ('Isma', 17), ('Emu', 27)]\n"
          ]
        }
      ]
    }
  ]
}