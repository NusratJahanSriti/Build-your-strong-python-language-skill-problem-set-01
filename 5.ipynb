{
  "nbformat": 4,
  "nbformat_minor": 0,
  "metadata": {
    "colab": {
      "provenance": []
    },
    "kernelspec": {
      "name": "python3",
      "display_name": "Python 3"
    },
    "language_info": {
      "name": "python"
    }
  },
  "cells": [
    {
      "cell_type": "markdown",
      "source": [
        "**5. Count the number of vowels in a string.**"
      ],
      "metadata": {
        "id": "gkRNLyAJfXFn"
      }
    },
    {
      "cell_type": "code",
      "source": [
        "def count_vowels(string):\n",
        "    vowels = 'aeiouAEIOU'\n",
        "    count = 0\n",
        "    for char in string:\n",
        "        if char in vowels:\n",
        "            count += 1\n",
        "    return count\n",
        "\n",
        "# Example usage\n",
        "input_str = input(\"Enter a string: \")\n",
        "\n",
        "num_vowels = count_vowels(input_str)\n",
        "print(\"Number of vowels in the string:\", num_vowels)"
      ],
      "metadata": {
        "colab": {
          "base_uri": "https://localhost:8080/"
        },
        "id": "QUzTwmdQfh5H",
        "outputId": "00e61e87-5fe0-40fc-d0dc-5c6c131b6774"
      },
      "execution_count": null,
      "outputs": [
        {
          "output_type": "stream",
          "name": "stdout",
          "text": [
            "Enter a string: Nusrat Jahan\n",
            "Number of vowels in the string: 4\n"
          ]
        }
      ]
    }
  ]
}