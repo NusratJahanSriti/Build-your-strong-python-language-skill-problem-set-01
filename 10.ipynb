{
  "nbformat": 4,
  "nbformat_minor": 0,
  "metadata": {
    "colab": {
      "provenance": []
    },
    "kernelspec": {
      "name": "python3",
      "display_name": "Python 3"
    },
    "language_info": {
      "name": "python"
    }
  },
  "cells": [
    {
      "cell_type": "markdown",
      "source": [
        "**10. Given a list of integers, find the average.**"
      ],
      "metadata": {
        "id": "rjAjjAB3lu6Z"
      }
    },
    {
      "cell_type": "code",
      "source": [
        "def find_average(numbers):\n",
        "    if not numbers:\n",
        "        return None\n",
        "\n",
        "    total = sum(numbers)\n",
        "    average = total / len(numbers)\n",
        "    return average\n",
        "\n",
        "# Example usage\n",
        "input_list = input(\"Enter a list of integers, separated by spaces: \")\n",
        "input_list = list(map(int, input_list.split()))\n",
        "\n",
        "average = find_average(input_list)\n",
        "\n",
        "if average is None:\n",
        "    print(\"The list is empty.\")\n",
        "else:\n",
        "    print(\"The average is:\", average)"
      ],
      "metadata": {
        "id": "NHo56DDAl8XA",
        "colab": {
          "base_uri": "https://localhost:8080/"
        },
        "outputId": "920c051b-5f92-4f5e-bc5e-319d299d7361"
      },
      "execution_count": null,
      "outputs": [
        {
          "output_type": "stream",
          "name": "stdout",
          "text": [
            "Enter a list of integers, separated by spaces: 10 45 67\n",
            "The average is: 40.666666666666664\n"
          ]
        }
      ]
    }
  ]
}