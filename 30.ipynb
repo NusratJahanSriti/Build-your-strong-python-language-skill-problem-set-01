{
  "nbformat": 4,
  "nbformat_minor": 0,
  "metadata": {
    "colab": {
      "provenance": []
    },
    "kernelspec": {
      "name": "python3",
      "display_name": "Python 3"
    },
    "language_info": {
      "name": "python"
    }
  },
  "cells": [
    {
      "cell_type": "markdown",
      "source": [
        "**30. Calculate the power of a number.**"
      ],
      "metadata": {
        "id": "sC4G1q1uIdsy"
      }
    },
    {
      "cell_type": "markdown",
      "source": [
        "# Using the exponentiation operator (**):"
      ],
      "metadata": {
        "id": "DtovM_noKQ7x"
      }
    },
    {
      "cell_type": "code",
      "source": [
        "def calculate_power(base, exponent):\n",
        "    result = base ** exponent\n",
        "    return result\n",
        "\n",
        "# Example usage\n",
        "base_number = float(input(\"Enter the base number: \"))\n",
        "exponent_number = float(input(\"Enter the exponent: \"))\n",
        "\n",
        "power_result = calculate_power(base_number, exponent_number)\n",
        "\n",
        "print(\"Result:\", power_result)\n"
      ],
      "metadata": {
        "colab": {
          "base_uri": "https://localhost:8080/"
        },
        "id": "Az5EhQwZIlbJ",
        "outputId": "07c2b324-f5ae-4796-c43a-91ac63801c52"
      },
      "execution_count": 1,
      "outputs": [
        {
          "output_type": "stream",
          "name": "stdout",
          "text": [
            "Enter the base number: 3\n",
            "Enter the exponent: 2\n",
            "Result: 9.0\n"
          ]
        }
      ]
    },
    {
      "cell_type": "markdown",
      "source": [
        "# Using the pow() function:"
      ],
      "metadata": {
        "id": "FK6nuuZfKYXP"
      }
    },
    {
      "cell_type": "code",
      "source": [
        "def calculate_power(base, exponent):\n",
        "    result = pow(base, exponent)\n",
        "    return result\n",
        "\n",
        "# Example usage\n",
        "base_number = float(input(\"Enter the base number: \"))\n",
        "exponent_number = float(input(\"Enter the exponent: \"))\n",
        "\n",
        "power_result = calculate_power(base_number, exponent_number)\n",
        "\n",
        "print(\"Result:\", power_result)\n"
      ],
      "metadata": {
        "colab": {
          "base_uri": "https://localhost:8080/"
        },
        "id": "ys2nDDzsKnVv",
        "outputId": "998ccc10-9363-4cea-d35d-a9e26447c49c"
      },
      "execution_count": 2,
      "outputs": [
        {
          "output_type": "stream",
          "name": "stdout",
          "text": [
            "Enter the base number: 7\n",
            "Enter the exponent: 9\n",
            "Result: 40353607.0\n"
          ]
        }
      ]
    }
  ]
}