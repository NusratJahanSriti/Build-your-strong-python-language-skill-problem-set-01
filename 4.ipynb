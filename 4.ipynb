{
  "nbformat": 4,
  "nbformat_minor": 0,
  "metadata": {
    "colab": {
      "provenance": []
    },
    "kernelspec": {
      "name": "python3",
      "display_name": "Python 3"
    },
    "language_info": {
      "name": "python"
    }
  },
  "cells": [
    {
      "cell_type": "markdown",
      "source": [
        "**4. Find the factorial of a given number.**"
      ],
      "metadata": {
        "id": "izD6RcVme1XY"
      }
    },
    {
      "cell_type": "code",
      "source": [
        "def factorial(number):\n",
        "    if number < 0:\n",
        "        return None #we return None because the factorial is not defined for negative numbers\n",
        "    elif number == 0:\n",
        "        return 1 #f the number is 0, we return 1, as the factorial of 0 is defined to be 1.\n",
        "    else:\n",
        "        result = 1\n",
        "        for i in range(1, number + 1): #For any positive number, we initialize a variable result to 1 and use a for loop to iterate from 1 to the given number.\n",
        "            result *= i\n",
        "        return result\n",
        "\n",
        "# Example usage\n",
        "num = int(input(\"Enter a number: \"))\n",
        "\n",
        "fact = factorial(num)\n",
        "if fact is None:\n",
        "    print(\"Factorial is not defined for negative numbers.\")\n",
        "else:\n",
        "    print(\"The factorial of\", num, \"is:\", fact)"
      ],
      "metadata": {
        "colab": {
          "base_uri": "https://localhost:8080/"
        },
        "id": "VdPDkyjBfDb3",
        "outputId": "4ec6cb11-6b0c-4e64-cd14-361b24738de9"
      },
      "execution_count": null,
      "outputs": [
        {
          "output_type": "stream",
          "name": "stdout",
          "text": [
            "Enter a number: 6\n",
            "The factorial of 6 is: 720\n"
          ]
        }
      ]
    }
  ]
}