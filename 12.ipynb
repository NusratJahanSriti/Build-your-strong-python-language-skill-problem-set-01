{
  "nbformat": 4,
  "nbformat_minor": 0,
  "metadata": {
    "colab": {
      "provenance": []
    },
    "kernelspec": {
      "name": "python3",
      "display_name": "Python 3"
    },
    "language_info": {
      "name": "python"
    }
  },
  "cells": [
    {
      "cell_type": "markdown",
      "source": [
        "**12. Find the intersection of two lists.**"
      ],
      "metadata": {
        "id": "Pn8JrU15CGkl"
      }
    },
    {
      "cell_type": "code",
      "source": [
        "def find_intersection(list1, list2):\n",
        "    set1 = set(list1) #we convert both lists to sets using the set() function to eliminate duplicate elements.\n",
        "    set2 = set(list2)\n",
        "    intersection = set1.intersection(set2)\n",
        "    return list(intersection)\n",
        "\n",
        "# Example usage\n",
        "input_list1 = input(\"Enter elements for the first list, separated by spaces: \")\n",
        "input_list1 = input_list1.split()\n",
        "\n",
        "input_list2 = input(\"Enter elements for the second list, separated by spaces: \")\n",
        "input_list2 = input_list2.split()\n",
        "\n",
        "intersection = find_intersection(input_list1, input_list2)\n",
        "\n",
        "print(\"Intersection of the two lists:\", intersection)\n"
      ],
      "metadata": {
        "colab": {
          "base_uri": "https://localhost:8080/"
        },
        "id": "f1d8VVJ-CRaM",
        "outputId": "cd78ee5b-f050-4954-ba55-e06e490328a6"
      },
      "execution_count": 1,
      "outputs": [
        {
          "output_type": "stream",
          "name": "stdout",
          "text": [
            "Enter elements for the first list, separated by spaces: 5 6 8 7 9\n",
            "Enter elements for the second list, separated by spaces: 8 5 6 9 3\n",
            "Intersection of the two lists: ['6', '9', '8', '5']\n"
          ]
        }
      ]
    }
  ]
}