{
  "nbformat": 4,
  "nbformat_minor": 0,
  "metadata": {
    "colab": {
      "provenance": []
    },
    "kernelspec": {
      "name": "python3",
      "display_name": "Python 3"
    },
    "language_info": {
      "name": "python"
    }
  },
  "cells": [
    {
      "cell_type": "markdown",
      "source": [
        "**27. Find the sum of all the even numbers between two given numbers.**"
      ],
      "metadata": {
        "id": "oODNod_Q6t1O"
      }
    },
    {
      "cell_type": "code",
      "source": [
        "def sum_even_numbers(start, end):\n",
        "    sum_even = 0\n",
        "    for num in range(start, end + 1): #We then use a for loop to iterate through all the numbers from start to end, inclusive.\n",
        "        if num % 2 == 0:\n",
        "            sum_even += num\n",
        "    return sum_even\n",
        "\n",
        "# Example usage\n",
        "start_number = int(input(\"Enter the start number: \"))\n",
        "end_number = int(input(\"Enter the end number: \"))\n",
        "\n",
        "sum_of_even_numbers = sum_even_numbers(start_number, end_number)\n",
        "\n",
        "print(\"Sum of even numbers:\", sum_of_even_numbers)\n"
      ],
      "metadata": {
        "colab": {
          "base_uri": "https://localhost:8080/"
        },
        "id": "Sf0fX9yAEY6V",
        "outputId": "7e95fa94-b3df-4a41-a84a-d90a73d1ac6d"
      },
      "execution_count": 2,
      "outputs": [
        {
          "output_type": "stream",
          "name": "stdout",
          "text": [
            "Enter the start number: 2\n",
            "Enter the end number: 50\n",
            "Sum of even numbers: 650\n"
          ]
        }
      ]
    }
  ]
}