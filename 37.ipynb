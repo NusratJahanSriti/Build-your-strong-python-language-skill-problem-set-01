{
  "nbformat": 4,
  "nbformat_minor": 0,
  "metadata": {
    "colab": {
      "provenance": []
    },
    "kernelspec": {
      "name": "python3",
      "display_name": "Python 3"
    },
    "language_info": {
      "name": "python"
    }
  },
  "cells": [
    {
      "cell_type": "markdown",
      "source": [
        "**37. Given a list of tuples, sort them based on the second element.**"
      ],
      "metadata": {
        "id": "YKzGlYVAZIr3"
      }
    },
    {
      "cell_type": "code",
      "source": [
        "#Sorting the list based on the second element means that we want to rearrange the tuples in ascending order of the ages.\n",
        "\n",
        "# List of tuples\n",
        "data = [(\"Sriti\", 35), (\"Nusrat\", 27), (\"Jahan\", 32), (\"Elma\", 28), (\"Aunto\", 17)]\n",
        "#the data list contains tuples, where each tuple represents a pair of values.\n",
        "#The sorting is based on the second element of each tuple.\n",
        "\n",
        "# Sort the list based on the second element\n",
        "data.sort(key=lambda x: x[1])  # Using sort()\n",
        "#The sort() function is used to sort the list in-place by specifying the key parameter as a lambda function that extracts the second element (x[1]) from each tuple.\n",
        "\n",
        "# Alternatively, use sorted() function to create a new sorted list\n",
        "sorted_data = sorted(data, key=lambda x: x[1]) # the key parameter is used to specify the lambda function for extracting the second element.\n",
        "\n",
        "# Print the sorted list\n",
        "print(\"Sorted list:\", data)\n",
        "print(\"Sorted list (using sorted()):\", sorted_data)"
      ],
      "metadata": {
        "colab": {
          "base_uri": "https://localhost:8080/"
        },
        "id": "HaCedIsgZPMH",
        "outputId": "3b85a63a-c35e-413d-9bb6-5e8222c3ca96"
      },
      "execution_count": 2,
      "outputs": [
        {
          "output_type": "stream",
          "name": "stdout",
          "text": [
            "Sorted list: [('Aunto', 17), ('Nusrat', 27), ('Elma', 28), ('Jahan', 32), ('Sriti', 35)]\n",
            "Sorted list (using sorted()): [('Aunto', 17), ('Nusrat', 27), ('Elma', 28), ('Jahan', 32), ('Sriti', 35)]\n"
          ]
        }
      ]
    }
  ]
}