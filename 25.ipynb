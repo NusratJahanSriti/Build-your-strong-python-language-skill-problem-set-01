{
  "nbformat": 4,
  "nbformat_minor": 0,
  "metadata": {
    "colab": {
      "provenance": []
    },
    "kernelspec": {
      "name": "python3",
      "display_name": "Python 3"
    },
    "language_info": {
      "name": "python"
    }
  },
  "cells": [
    {
      "cell_type": "markdown",
      "source": [
        "**25. Check if a given string is an anagram of another string.**"
      ],
      "metadata": {
        "id": "bsTG_WEo0dOn"
      }
    },
    {
      "cell_type": "code",
      "source": [
        "def is_anagram(str1, str2):\n",
        "    if len(str1) != len(str2):\n",
        "        return False\n",
        "    else:\n",
        "        sorted_str1 = sorted(str1.lower())\n",
        "        sorted_str2 = sorted(str2.lower())\n",
        "        return sorted_str1 == sorted_str2\n",
        "# Example usage\n",
        "input_str1 = input(\"Enter the first string: \")\n",
        "input_str2 = input(\"Enter the second string: \")\n",
        "\n",
        "if is_anagram(input_str1, input_str2):\n",
        "    print(\"The strings are anagrams.\")\n",
        "else:\n",
        "    print(\"The strings are not anagrams.\")\n"
      ],
      "metadata": {
        "colab": {
          "base_uri": "https://localhost:8080/"
        },
        "id": "1iN4HqA-2BCU",
        "outputId": "1e8c0e67-5248-4897-90dc-da175015bba5"
      },
      "execution_count": 1,
      "outputs": [
        {
          "output_type": "stream",
          "name": "stdout",
          "text": [
            "Enter the first string: Listen\n",
            "Enter the second string: Silent\n",
            "The strings are anagrams.\n"
          ]
        }
      ]
    }
  ]
}