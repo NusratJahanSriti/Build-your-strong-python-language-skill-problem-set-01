{
  "nbformat": 4,
  "nbformat_minor": 0,
  "metadata": {
    "colab": {
      "provenance": []
    },
    "kernelspec": {
      "name": "python3",
      "display_name": "Python 3"
    },
    "language_info": {
      "name": "python"
    }
  },
  "cells": [
    {
      "cell_type": "markdown",
      "source": [
        "**13. Given a list of integers, remove all the even numbers.**"
      ],
      "metadata": {
        "id": "5T6v5btlDDOc"
      }
    },
    {
      "cell_type": "code",
      "source": [
        "def remove_even_numbers(numbers):\n",
        "    return [num for num in numbers if num % 2 != 0]\n",
        "\n",
        "# Example usage\n",
        "input_list = input(\"Enter a list of integers, separated by spaces: \")\n",
        "input_list = list(map(int, input_list.split()))\n",
        "\n",
        "filtered_list = remove_even_numbers(input_list)\n",
        "\n",
        "print(\"List with even numbers removed:\", filtered_list)"
      ],
      "metadata": {
        "colab": {
          "base_uri": "https://localhost:8080/"
        },
        "id": "POkxhpddDOEM",
        "outputId": "668f4262-c4be-4453-aa66-87174ce62eb9"
      },
      "execution_count": 2,
      "outputs": [
        {
          "output_type": "stream",
          "name": "stdout",
          "text": [
            "Enter a list of integers, separated by spaces: 45 34 67 89\n",
            "List with even numbers removed: [45, 67, 89]\n"
          ]
        }
      ]
    }
  ]
}